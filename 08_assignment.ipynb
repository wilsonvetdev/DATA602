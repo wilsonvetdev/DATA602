{
 "cells": [
  {
   "cell_type": "markdown",
   "metadata": {
    "id": "view-in-github"
   },
   "source": [
    "<a href=\"https://colab.research.google.com/github/data602sps/assignments/blob/master/05_assignment.ipynb\" target=\"_parent\"><img src=\"https://colab.research.google.com/assets/colab-badge.svg\" alt=\"Open In Colab\"/></a>"
   ]
  },
  {
   "cell_type": "markdown",
   "metadata": {
    "id": "rd2QZetSDszc"
   },
   "source": [
    "# **Assignment 8**\n",
    "\n",
    "# **Weeks 10 & 11 - matplotlib & seaborn**\n",
    "* In this homework assignment, you will explore and analyze a public dataset of your choosing. Since this assignment is “open-ended” in nature, you are free to expand upon the requirements below. However, you must meet the minimum requirments as indicated in each section. \n",
    "\n",
    "\n",
    "* The preferred method for this analysis is in a .ipynb file. Feel free to use whichever platform of your choosing.  \n",
    "\n",
    "\n",
    "### **Some data examples:**\n",
    "•\thttps://www.data.gov/\n",
    "\n",
    "•\thttps://opendata.cityofnewyork.us/\n",
    "\n",
    "•\thttps://datasetsearch.research.google.com/\n",
    "\n",
    "•\thttps://archive.ics.uci.edu/ml/index.php\n",
    "\n",
    "### **Resources:**\n",
    "\n",
    "•\thttps://pandas.pydata.org/pandas-docs/stable/getting_started/10min.html \n",
    "\n",
    "•\thttps://www.oreilly.com/library/view/python-data-science/9781491912126/ch04.html\n",
    "\n",
    "•\thttps://www.data-to-viz.com/\n",
    "\n",
    "\n",
    "\n",
    "### **Headings or comments**\n",
    "**You are required to make use of comments, or headings for each section.  You must explain what your code is doing, and the results of running your code.**  Act as if you were giving this assignment to your manager - you must include clear and descriptive information for each section.\n",
    "\n",
    "### **You may work as a group or indivdually on this assignment.**\n"
   ]
  },
  {
   "cell_type": "markdown",
   "metadata": {
    "id": "uW3w6p8rqgxu"
   },
   "source": [
    "# Introduction\n",
    "\n",
    "In this section, please describe the dataset you are using.  Include a link to the source of this data.  You should also provide some explanation on why you choose this dataset."
   ]
  },
  {
   "cell_type": "markdown",
   "metadata": {},
   "source": [
    "Data: https://catalog.data.gov/dataset/electric-vehicle-population-data\n",
    "<br>\n",
    "This is a dataset which has eletric vehicle data registered throgh Washington State Department of Licensing.\n",
    "<br>\n",
    "I chose this dataset since it could be interesting to plot after exploring the variables and observations.\n"
   ]
  },
  {
   "cell_type": "code",
   "execution_count": 51,
   "metadata": {
    "id": "L0PnfMOFzOXz"
   },
   "outputs": [],
   "source": [
    "import matplotlib.pyplot as plt\n",
    "import seaborn as sns\n",
    "import pandas as pd\n",
    "import numpy as np"
   ]
  },
  {
   "cell_type": "markdown",
   "metadata": {
    "id": "3bp8cdDxDs2t"
   },
   "source": [
    "______________\n",
    "# Data Exploration\n",
    "Import your dataset into your .ipynb, create dataframes, and explore your data.  \n",
    "\n",
    "Include: \n",
    "\n",
    "* Summary statistics means, medians, quartiles, \n",
    "* Missing value information\n",
    "* Any other relevant information about the dataset.  \n",
    "\n"
   ]
  },
  {
   "cell_type": "code",
   "execution_count": 7,
   "metadata": {
    "id": "3NUlO_ru1WqR"
   },
   "outputs": [
    {
     "data": {
      "text/html": [
       "<div>\n",
       "<style scoped>\n",
       "    .dataframe tbody tr th:only-of-type {\n",
       "        vertical-align: middle;\n",
       "    }\n",
       "\n",
       "    .dataframe tbody tr th {\n",
       "        vertical-align: top;\n",
       "    }\n",
       "\n",
       "    .dataframe thead th {\n",
       "        text-align: right;\n",
       "    }\n",
       "</style>\n",
       "<table border=\"1\" class=\"dataframe\">\n",
       "  <thead>\n",
       "    <tr style=\"text-align: right;\">\n",
       "      <th></th>\n",
       "      <th>VIN (1-10)</th>\n",
       "      <th>County</th>\n",
       "      <th>City</th>\n",
       "      <th>State</th>\n",
       "      <th>Postal Code</th>\n",
       "      <th>Model Year</th>\n",
       "      <th>Make</th>\n",
       "      <th>Model</th>\n",
       "      <th>Electric Vehicle Type</th>\n",
       "      <th>Clean Alternative Fuel Vehicle (CAFV) Eligibility</th>\n",
       "      <th>Electric Range</th>\n",
       "      <th>Base MSRP</th>\n",
       "      <th>Legislative District</th>\n",
       "      <th>DOL Vehicle ID</th>\n",
       "      <th>Vehicle Location</th>\n",
       "      <th>Electric Utility</th>\n",
       "      <th>2020 Census Tract</th>\n",
       "    </tr>\n",
       "  </thead>\n",
       "  <tbody>\n",
       "    <tr>\n",
       "      <th>0</th>\n",
       "      <td>5YJ3E1EB2J</td>\n",
       "      <td>Suffolk</td>\n",
       "      <td>Suffolk</td>\n",
       "      <td>VA</td>\n",
       "      <td>23435.0</td>\n",
       "      <td>2018</td>\n",
       "      <td>TESLA</td>\n",
       "      <td>MODEL 3</td>\n",
       "      <td>Battery Electric Vehicle (BEV)</td>\n",
       "      <td>Clean Alternative Fuel Vehicle Eligible</td>\n",
       "      <td>215</td>\n",
       "      <td>0</td>\n",
       "      <td>NaN</td>\n",
       "      <td>476647986</td>\n",
       "      <td>POINT (-76.42443 36.8752)</td>\n",
       "      <td>NaN</td>\n",
       "      <td>5.180008e+10</td>\n",
       "    </tr>\n",
       "    <tr>\n",
       "      <th>1</th>\n",
       "      <td>5YJ3E1ECXL</td>\n",
       "      <td>Yakima</td>\n",
       "      <td>Yakima</td>\n",
       "      <td>WA</td>\n",
       "      <td>98908.0</td>\n",
       "      <td>2020</td>\n",
       "      <td>TESLA</td>\n",
       "      <td>MODEL 3</td>\n",
       "      <td>Battery Electric Vehicle (BEV)</td>\n",
       "      <td>Clean Alternative Fuel Vehicle Eligible</td>\n",
       "      <td>308</td>\n",
       "      <td>0</td>\n",
       "      <td>14.0</td>\n",
       "      <td>103490145</td>\n",
       "      <td>POINT (-120.56916 46.58514)</td>\n",
       "      <td>PACIFICORP</td>\n",
       "      <td>5.307700e+10</td>\n",
       "    </tr>\n",
       "    <tr>\n",
       "      <th>2</th>\n",
       "      <td>WA1LAAGE7M</td>\n",
       "      <td>Yakima</td>\n",
       "      <td>Yakima</td>\n",
       "      <td>WA</td>\n",
       "      <td>98908.0</td>\n",
       "      <td>2021</td>\n",
       "      <td>AUDI</td>\n",
       "      <td>E-TRON</td>\n",
       "      <td>Battery Electric Vehicle (BEV)</td>\n",
       "      <td>Clean Alternative Fuel Vehicle Eligible</td>\n",
       "      <td>222</td>\n",
       "      <td>0</td>\n",
       "      <td>14.0</td>\n",
       "      <td>144941534</td>\n",
       "      <td>POINT (-120.56916 46.58514)</td>\n",
       "      <td>PACIFICORP</td>\n",
       "      <td>5.307700e+10</td>\n",
       "    </tr>\n",
       "    <tr>\n",
       "      <th>3</th>\n",
       "      <td>5YJ3E1EA1K</td>\n",
       "      <td>Danville</td>\n",
       "      <td>Danville</td>\n",
       "      <td>VA</td>\n",
       "      <td>24541.0</td>\n",
       "      <td>2019</td>\n",
       "      <td>TESLA</td>\n",
       "      <td>MODEL 3</td>\n",
       "      <td>Battery Electric Vehicle (BEV)</td>\n",
       "      <td>Clean Alternative Fuel Vehicle Eligible</td>\n",
       "      <td>220</td>\n",
       "      <td>0</td>\n",
       "      <td>NaN</td>\n",
       "      <td>168513922</td>\n",
       "      <td>POINT (-79.4172 36.58598)</td>\n",
       "      <td>NaN</td>\n",
       "      <td>5.159000e+10</td>\n",
       "    </tr>\n",
       "    <tr>\n",
       "      <th>4</th>\n",
       "      <td>1FADP5CU9E</td>\n",
       "      <td>Norfolk</td>\n",
       "      <td>Norfolk</td>\n",
       "      <td>VA</td>\n",
       "      <td>23518.0</td>\n",
       "      <td>2014</td>\n",
       "      <td>FORD</td>\n",
       "      <td>C-MAX</td>\n",
       "      <td>Plug-in Hybrid Electric Vehicle (PHEV)</td>\n",
       "      <td>Not eligible due to low battery range</td>\n",
       "      <td>19</td>\n",
       "      <td>0</td>\n",
       "      <td>NaN</td>\n",
       "      <td>150749378</td>\n",
       "      <td>POINT (-76.21549 36.92478)</td>\n",
       "      <td>NaN</td>\n",
       "      <td>5.171001e+10</td>\n",
       "    </tr>\n",
       "  </tbody>\n",
       "</table>\n",
       "</div>"
      ],
      "text/plain": [
       "   VIN (1-10)    County      City State  Postal Code  Model Year   Make  \\\n",
       "0  5YJ3E1EB2J   Suffolk   Suffolk    VA      23435.0        2018  TESLA   \n",
       "1  5YJ3E1ECXL    Yakima    Yakima    WA      98908.0        2020  TESLA   \n",
       "2  WA1LAAGE7M    Yakima    Yakima    WA      98908.0        2021   AUDI   \n",
       "3  5YJ3E1EA1K  Danville  Danville    VA      24541.0        2019  TESLA   \n",
       "4  1FADP5CU9E   Norfolk   Norfolk    VA      23518.0        2014   FORD   \n",
       "\n",
       "     Model                   Electric Vehicle Type  \\\n",
       "0  MODEL 3          Battery Electric Vehicle (BEV)   \n",
       "1  MODEL 3          Battery Electric Vehicle (BEV)   \n",
       "2   E-TRON          Battery Electric Vehicle (BEV)   \n",
       "3  MODEL 3          Battery Electric Vehicle (BEV)   \n",
       "4    C-MAX  Plug-in Hybrid Electric Vehicle (PHEV)   \n",
       "\n",
       "  Clean Alternative Fuel Vehicle (CAFV) Eligibility  Electric Range  \\\n",
       "0           Clean Alternative Fuel Vehicle Eligible             215   \n",
       "1           Clean Alternative Fuel Vehicle Eligible             308   \n",
       "2           Clean Alternative Fuel Vehicle Eligible             222   \n",
       "3           Clean Alternative Fuel Vehicle Eligible             220   \n",
       "4             Not eligible due to low battery range              19   \n",
       "\n",
       "   Base MSRP  Legislative District  DOL Vehicle ID  \\\n",
       "0          0                   NaN       476647986   \n",
       "1          0                  14.0       103490145   \n",
       "2          0                  14.0       144941534   \n",
       "3          0                   NaN       168513922   \n",
       "4          0                   NaN       150749378   \n",
       "\n",
       "              Vehicle Location Electric Utility  2020 Census Tract  \n",
       "0    POINT (-76.42443 36.8752)              NaN       5.180008e+10  \n",
       "1  POINT (-120.56916 46.58514)       PACIFICORP       5.307700e+10  \n",
       "2  POINT (-120.56916 46.58514)       PACIFICORP       5.307700e+10  \n",
       "3    POINT (-79.4172 36.58598)              NaN       5.159000e+10  \n",
       "4   POINT (-76.21549 36.92478)              NaN       5.171001e+10  "
      ]
     },
     "execution_count": 7,
     "metadata": {},
     "output_type": "execute_result"
    }
   ],
   "source": [
    "df = pd.read_csv('Electric_Vehicle_Population_Data.csv')\n",
    "\n",
    "df.head()"
   ]
  },
  {
   "cell_type": "markdown",
   "metadata": {},
   "source": [
    "# Summary Statistics"
   ]
  },
  {
   "cell_type": "code",
   "execution_count": 8,
   "metadata": {},
   "outputs": [
    {
     "data": {
      "text/plain": [
       "(121978, 17)"
      ]
     },
     "execution_count": 8,
     "metadata": {},
     "output_type": "execute_result"
    }
   ],
   "source": [
    "df.shape"
   ]
  },
  {
   "cell_type": "markdown",
   "metadata": {},
   "source": [
    "Using the describe method to output descriptive information about the two columns that we can quantify. \n",
    "<br>\n",
    "I'm going to assume the **electric range** column describes the travel range on full charge.\n",
    "<br>\n",
    "The **base msrp** column looks funky because we can see that the first five observations has **0** in the cells.\n",
    "<br>\n",
    "We also observe that the mean is only 1627 which shouldn't be accurate. EV articles aren't that inexpensive."
   ]
  },
  {
   "cell_type": "code",
   "execution_count": 14,
   "metadata": {},
   "outputs": [
    {
     "data": {
      "text/html": [
       "<div>\n",
       "<style scoped>\n",
       "    .dataframe tbody tr th:only-of-type {\n",
       "        vertical-align: middle;\n",
       "    }\n",
       "\n",
       "    .dataframe tbody tr th {\n",
       "        vertical-align: top;\n",
       "    }\n",
       "\n",
       "    .dataframe thead th {\n",
       "        text-align: right;\n",
       "    }\n",
       "</style>\n",
       "<table border=\"1\" class=\"dataframe\">\n",
       "  <thead>\n",
       "    <tr style=\"text-align: right;\">\n",
       "      <th></th>\n",
       "      <th>Electric Range</th>\n",
       "      <th>Base MSRP</th>\n",
       "    </tr>\n",
       "  </thead>\n",
       "  <tbody>\n",
       "    <tr>\n",
       "      <th>count</th>\n",
       "      <td>121978.000000</td>\n",
       "      <td>121978.000000</td>\n",
       "    </tr>\n",
       "    <tr>\n",
       "      <th>mean</th>\n",
       "      <td>81.301407</td>\n",
       "      <td>1627.059798</td>\n",
       "    </tr>\n",
       "    <tr>\n",
       "      <th>std</th>\n",
       "      <td>100.890849</td>\n",
       "      <td>10267.478923</td>\n",
       "    </tr>\n",
       "    <tr>\n",
       "      <th>min</th>\n",
       "      <td>0.000000</td>\n",
       "      <td>0.000000</td>\n",
       "    </tr>\n",
       "    <tr>\n",
       "      <th>25%</th>\n",
       "      <td>0.000000</td>\n",
       "      <td>0.000000</td>\n",
       "    </tr>\n",
       "    <tr>\n",
       "      <th>50%</th>\n",
       "      <td>25.000000</td>\n",
       "      <td>0.000000</td>\n",
       "    </tr>\n",
       "    <tr>\n",
       "      <th>75%</th>\n",
       "      <td>200.000000</td>\n",
       "      <td>0.000000</td>\n",
       "    </tr>\n",
       "    <tr>\n",
       "      <th>max</th>\n",
       "      <td>337.000000</td>\n",
       "      <td>845000.000000</td>\n",
       "    </tr>\n",
       "  </tbody>\n",
       "</table>\n",
       "</div>"
      ],
      "text/plain": [
       "       Electric Range      Base MSRP\n",
       "count   121978.000000  121978.000000\n",
       "mean        81.301407    1627.059798\n",
       "std        100.890849   10267.478923\n",
       "min          0.000000       0.000000\n",
       "25%          0.000000       0.000000\n",
       "50%         25.000000       0.000000\n",
       "75%        200.000000       0.000000\n",
       "max        337.000000  845000.000000"
      ]
     },
     "execution_count": 14,
     "metadata": {},
     "output_type": "execute_result"
    }
   ],
   "source": [
    "df[['Electric Range', 'Base MSRP']].describe()"
   ]
  },
  {
   "cell_type": "markdown",
   "metadata": {},
   "source": [
    "Checking datatypes and non-null values with .info()."
   ]
  },
  {
   "cell_type": "code",
   "execution_count": 17,
   "metadata": {},
   "outputs": [
    {
     "name": "stdout",
     "output_type": "stream",
     "text": [
      "<class 'pandas.core.frame.DataFrame'>\n",
      "RangeIndex: 121978 entries, 0 to 121977\n",
      "Data columns (total 17 columns):\n",
      " #   Column                                             Non-Null Count   Dtype  \n",
      "---  ------                                             --------------   -----  \n",
      " 0   VIN (1-10)                                         121978 non-null  object \n",
      " 1   County                                             121976 non-null  object \n",
      " 2   City                                               121976 non-null  object \n",
      " 3   State                                              121978 non-null  object \n",
      " 4   Postal Code                                        121976 non-null  float64\n",
      " 5   Model Year                                         121978 non-null  int64  \n",
      " 6   Make                                               121978 non-null  object \n",
      " 7   Model                                              121874 non-null  object \n",
      " 8   Electric Vehicle Type                              121978 non-null  object \n",
      " 9   Clean Alternative Fuel Vehicle (CAFV) Eligibility  121978 non-null  object \n",
      " 10  Electric Range                                     121978 non-null  int64  \n",
      " 11  Base MSRP                                          121978 non-null  int64  \n",
      " 12  Legislative District                               121681 non-null  float64\n",
      " 13  DOL Vehicle ID                                     121978 non-null  int64  \n",
      " 14  Vehicle Location                                   121946 non-null  object \n",
      " 15  Electric Utility                                   121509 non-null  object \n",
      " 16  2020 Census Tract                                  121976 non-null  float64\n",
      "dtypes: float64(3), int64(4), object(10)\n",
      "memory usage: 15.8+ MB\n"
     ]
    }
   ],
   "source": [
    "df.info()"
   ]
  },
  {
   "cell_type": "code",
   "execution_count": 21,
   "metadata": {},
   "outputs": [
    {
     "data": {
      "text/plain": [
       "'5YJ3E1EB2J'"
      ]
     },
     "execution_count": 21,
     "metadata": {},
     "output_type": "execute_result"
    }
   ],
   "source": [
    "# I was curious why the Dtype for certain columns were displaying as object\n",
    "# they are strings\n",
    "\n",
    "df['VIN (1-10)'][0]"
   ]
  },
  {
   "cell_type": "markdown",
   "metadata": {},
   "source": [
    "Checking for duplicated observations - we don't have any in this dataset."
   ]
  },
  {
   "cell_type": "code",
   "execution_count": 16,
   "metadata": {},
   "outputs": [
    {
     "data": {
      "text/plain": [
       "0"
      ]
     },
     "execution_count": 16,
     "metadata": {},
     "output_type": "execute_result"
    }
   ],
   "source": [
    "df.duplicated().sum()"
   ]
  },
  {
   "cell_type": "markdown",
   "metadata": {},
   "source": [
    "We see that there **Electric Vehicle Type** is a categorical column with two unique types.\n",
    "<br>\n",
    "We can plot something meaningful with electric vehicle types and their respective ranges.\n",
    "<br>\n",
    "Or make a plot to highlight the difference in registrations between the EV types."
   ]
  },
  {
   "cell_type": "code",
   "execution_count": 28,
   "metadata": {},
   "outputs": [
    {
     "data": {
      "text/plain": [
       "array(['Battery Electric Vehicle (BEV)',\n",
       "       'Plug-in Hybrid Electric Vehicle (PHEV)'], dtype=object)"
      ]
     },
     "execution_count": 28,
     "metadata": {},
     "output_type": "execute_result"
    }
   ],
   "source": [
    "df['Electric Vehicle Type'].unique()"
   ]
  },
  {
   "cell_type": "markdown",
   "metadata": {
    "id": "kCSLIafaEGVK"
   },
   "source": [
    "# Data Wrangling\n",
    "\n",
    "Perform data wrangling.  You are free to use your best judgment here.  If you are stuck, look at previous assignment."
   ]
  },
  {
   "cell_type": "code",
   "execution_count": 64,
   "metadata": {
    "id": "xEkLsm7g1UiZ"
   },
   "outputs": [
    {
     "data": {
      "text/plain": [
       "Electric Vehicle Type\n",
       "Battery Electric Vehicle (BEV)            94118\n",
       "Plug-in Hybrid Electric Vehicle (PHEV)    27860\n",
       "Name: Electric Vehicle Type, dtype: int64"
      ]
     },
     "execution_count": 64,
     "metadata": {},
     "output_type": "execute_result"
    }
   ],
   "source": [
    "electric_vehicle_count_series = df.groupby(['Electric Vehicle Type'])['Electric Vehicle Type'].count()\n",
    "electric_vehicle_count_series"
   ]
  },
  {
   "cell_type": "code",
   "execution_count": 68,
   "metadata": {},
   "outputs": [
    {
     "data": {
      "text/plain": [
       "121978"
      ]
     },
     "execution_count": 68,
     "metadata": {},
     "output_type": "execute_result"
    }
   ],
   "source": [
    "vehicle_sum = df['Electric Vehicle Type'].count()\n",
    "vehicle_sum"
   ]
  },
  {
   "cell_type": "markdown",
   "metadata": {},
   "source": [
    "I don't quite remember how to transmute, or forgot how to work with a series so created a new dataframe to plot instead.\n",
    "<br>\n",
    "I wanted to also visualize the percentages for each type of electric vehicle in this dataset."
   ]
  },
  {
   "cell_type": "code",
   "execution_count": 80,
   "metadata": {},
   "outputs": [
    {
     "data": {
      "text/html": [
       "<div>\n",
       "<style scoped>\n",
       "    .dataframe tbody tr th:only-of-type {\n",
       "        vertical-align: middle;\n",
       "    }\n",
       "\n",
       "    .dataframe tbody tr th {\n",
       "        vertical-align: top;\n",
       "    }\n",
       "\n",
       "    .dataframe thead th {\n",
       "        text-align: right;\n",
       "    }\n",
       "</style>\n",
       "<table border=\"1\" class=\"dataframe\">\n",
       "  <thead>\n",
       "    <tr style=\"text-align: right;\">\n",
       "      <th></th>\n",
       "      <th>EV_Type</th>\n",
       "      <th>EV_Ratio</th>\n",
       "    </tr>\n",
       "  </thead>\n",
       "  <tbody>\n",
       "    <tr>\n",
       "      <th>0</th>\n",
       "      <td>Battery Electric Vehicle (BEV)</td>\n",
       "      <td>0.771598</td>\n",
       "    </tr>\n",
       "    <tr>\n",
       "      <th>1</th>\n",
       "      <td>Plug-in Hybrid Electric Vehicle (PHEV)</td>\n",
       "      <td>0.228402</td>\n",
       "    </tr>\n",
       "  </tbody>\n",
       "</table>\n",
       "</div>"
      ],
      "text/plain": [
       "                                  EV_Type  EV_Ratio\n",
       "0          Battery Electric Vehicle (BEV)  0.771598\n",
       "1  Plug-in Hybrid Electric Vehicle (PHEV)  0.228402"
      ]
     },
     "execution_count": 80,
     "metadata": {},
     "output_type": "execute_result"
    }
   ],
   "source": [
    "ev_ratio_df = pd.DataFrame({\n",
    "    'EV_Type': ['Battery Electric Vehicle (BEV)', 'Plug-in Hybrid Electric Vehicle (PHEV)'],\n",
    "    'EV_Ratio': [(94118/vehicle_sum), (27860/vehicle_sum)]\n",
    "})\n",
    "ev_ratio_df"
   ]
  },
  {
   "cell_type": "markdown",
   "metadata": {},
   "source": [
    "I noticed some values were 0 in the Electric Range column so I filtered those out because I don't want them in the calculations.\n",
    "<br>\n",
    "I also filtered out the Plug-In Hybrid vehicles in this case to focus on 'BEV'."
   ]
  },
  {
   "cell_type": "code",
   "execution_count": 141,
   "metadata": {},
   "outputs": [],
   "source": [
    "filtered_df = df[df['Electric Vehicle Type'] == 'Battery Electric Vehicle (BEV)']\n",
    "\n",
    "filtered_df = df[df['Electric Range'] > 0]\n",
    "\n",
    "bev_series = filtered_df.groupby('Make')['Electric Range'].mean().sort_values(ascending=False)"
   ]
  },
  {
   "cell_type": "code",
   "execution_count": 142,
   "metadata": {},
   "outputs": [
    {
     "data": {
      "text/plain": [
       "Make\n",
       "TESLA                   240.226802\n",
       "JAGUAR                  234.000000\n",
       "POLESTAR                233.000000\n",
       "CHEVROLET               126.953435\n",
       "HYUNDAI                 117.598592\n",
       "KIA                     108.166786\n",
       "VOLKSWAGEN              106.848837\n",
       "NISSAN                  103.100497\n",
       "WHEEGO ELECTRIC CARS    100.000000\n",
       "TH!NK                   100.000000\n",
       "FIAT                     85.631644\n",
       "AUDI                     81.998896\n",
       "PORSCHE                  71.299689\n",
       "SMART                    62.297794\n",
       "AZURE DYNAMICS           56.000000\n",
       "MINI                     53.065625\n",
       "BMW                      48.774678\n",
       "HONDA                    46.578947\n",
       "LEXUS                    37.000000\n",
       "CADILLAC                 35.481132\n",
       "FISKER                   33.000000\n",
       "CHRYSLER                 32.342706\n",
       "MERCEDES-BENZ            30.428969\n",
       "MITSUBISHI               26.778716\n",
       "TOYOTA                   26.291851\n",
       "FORD                     25.118502\n",
       "LINCOLN                  23.408602\n",
       "JEEP                     22.527728\n",
       "VOLVO                    20.220037\n",
       "LAND ROVER               19.000000\n",
       "BENTLEY                  18.666667\n",
       "SUBARU                   17.000000\n",
       "Name: Electric Range, dtype: float64"
      ]
     },
     "execution_count": 142,
     "metadata": {},
     "output_type": "execute_result"
    }
   ],
   "source": [
    "bev_series"
   ]
  },
  {
   "cell_type": "markdown",
   "metadata": {
    "id": "uJdF3TMe_TXU"
   },
   "source": [
    "# Visualizations\n",
    "\n",
    "The main purpose of this assignment is to practice creating various visualizations using the matplotlib and seaborn library.\n",
    "\n",
    "### **Part 1:**\n",
    "Using matplotlib, create ***two or more plots*** that incorporate at least **5** of the following properties:\n",
    "\n",
    "Note: these properties vary based on your data.  The goal is to practice creating visualizations and modifying its properties. \n",
    "\n",
    "*   Use and change a legend position\n",
    "*   Change a legend font size\n",
    "*   Place a legend outside of the plot\n",
    "*   Create a single legend for all subplots\n",
    "*   Change the title and x/y labels\n",
    "*   Change the marker, line colors, and line width\n",
    "*   Add annotations\n",
    "*   Modify Axis Text Ticks/Labels\n",
    "*   Change size of axis Labels\n",
    "*   Your own choice not included above \n",
    "\n",
    "\n",
    "Plots that you can create **include**:\n",
    "\n",
    "*   Scatter Plot\n",
    "*   Bar plot\n",
    "*   Line Chart\n",
    "*   Multi Plots (e.g. using .subplot()\n",
    "*   Histogram\n",
    "\n",
    "You can add another plot not listed here if it works better for your data.  This is not a complete list of plots to create."
   ]
  },
  {
   "cell_type": "markdown",
   "metadata": {},
   "source": [
    "### Below are two bar plots - one is created with a series and the other one is created with a dataframe."
   ]
  },
  {
   "cell_type": "markdown",
   "metadata": {},
   "source": [
    "The first graph is displaying the differences in count between the two types of electric vehicles. \n",
    "<br>\n",
    "BEV vs PHEV"
   ]
  },
  {
   "cell_type": "code",
   "execution_count": 143,
   "metadata": {},
   "outputs": [
    {
     "data": {
      "image/png": "[encoded data removed]",
      "text/plain": [
       "<Figure size 432x288 with 1 Axes>"
      ]
     },
     "metadata": {
      "needs_background": "light"
     },
     "output_type": "display_data"
    }
   ],
   "source": [
    "plt.bar(electric_vehicle_count_series.index, electric_vehicle_count_series.values)\n",
    "plt.title('Electric Vehicle Type and Count')\n",
    "plt.ylabel('Count')\n",
    "plt.show()"
   ]
  },
  {
   "cell_type": "markdown",
   "metadata": {},
   "source": [
    "The second graph is displaying the differences in percentages out of 100% between the two types of electric vehicles.\n",
    "<br>\n",
    "BEV vs PHEV"
   ]
  },
  {
   "cell_type": "code",
   "execution_count": 144,
   "metadata": {},
   "outputs": [
    {
     "data": {
      "image/png": "[encoded data removed]",
      "text/plain": [
       "<Figure size 432x288 with 1 Axes>"
      ]
     },
     "metadata": {
      "needs_background": "light"
     },
     "output_type": "display_data"
    }
   ],
   "source": [
    "plt.bar('EV_Type', 'EV_Ratio', data=ev_ratio_df)\n",
    "plt.title('Electric Vehicle Type and Ratio')\n",
    "# I didn't have to specify an x label because the pre-existing x-label is explanatory.\n",
    "plt.ylabel('Percentage')\n",
    "\n",
    "# adding legend and changing font size of the text inside the legend\n",
    "plt.legend(['EV Ratio'], fontsize = 14)\n",
    "\n",
    "# add text labels to each bar\n",
    "for index, row in ev_ratio_df.iterrows():\n",
    "    plt.text(index, row['EV_Ratio']+0.01, str(row['EV_Ratio']))\n",
    "    \n",
    "plt.show()"
   ]
  },
  {
   "cell_type": "markdown",
   "metadata": {},
   "source": [
    "This bar plot showcases the range on full charge for the top five most popular **make** in Washington.\n",
    "<br>\n",
    "The bar plot is created with the bev_series which I created in the wrangling section of the assignment."
   ]
  },
  {
   "cell_type": "code",
   "execution_count": 145,
   "metadata": {},
   "outputs": [
    {
     "data": {
      "image/png": "[encoded data removed]",
      "text/plain": [
       "<Figure size 432x288 with 1 Axes>"
      ]
     },
     "metadata": {
      "needs_background": "light"
     },
     "output_type": "display_data"
    }
   ],
   "source": [
    "plt.bar(bev_series[:5].index, bev_series[:5].values)\n",
    "plt.title('BEV and Electric Ranges')\n",
    "plt.ylabel('Range in miles on full charge')\n",
    "plt.show()"
   ]
  },
  {
   "cell_type": "markdown",
   "metadata": {},
   "source": [
    "Below I am creating a dataframe to plot a scatter plot to see if there's a relationship between postal codes and Base MSRP of all the vehicles."
   ]
  },
  {
   "cell_type": "code",
   "execution_count": 181,
   "metadata": {},
   "outputs": [
    {
     "data": {
      "text/html": [
       "<div>\n",
       "<style scoped>\n",
       "    .dataframe tbody tr th:only-of-type {\n",
       "        vertical-align: middle;\n",
       "    }\n",
       "\n",
       "    .dataframe tbody tr th {\n",
       "        vertical-align: top;\n",
       "    }\n",
       "\n",
       "    .dataframe thead th {\n",
       "        text-align: right;\n",
       "    }\n",
       "</style>\n",
       "<table border=\"1\" class=\"dataframe\">\n",
       "  <thead>\n",
       "    <tr style=\"text-align: right;\">\n",
       "      <th></th>\n",
       "      <th>VIN (1-10)</th>\n",
       "      <th>County</th>\n",
       "      <th>City</th>\n",
       "      <th>State</th>\n",
       "      <th>Postal Code</th>\n",
       "      <th>Model Year</th>\n",
       "      <th>Make</th>\n",
       "      <th>Model</th>\n",
       "      <th>Electric Vehicle Type</th>\n",
       "      <th>Clean Alternative Fuel Vehicle (CAFV) Eligibility</th>\n",
       "      <th>Electric Range</th>\n",
       "      <th>Base MSRP</th>\n",
       "      <th>Legislative District</th>\n",
       "      <th>DOL Vehicle ID</th>\n",
       "      <th>Vehicle Location</th>\n",
       "      <th>Electric Utility</th>\n",
       "      <th>2020 Census Tract</th>\n",
       "    </tr>\n",
       "  </thead>\n",
       "  <tbody>\n",
       "    <tr>\n",
       "      <th>121122</th>\n",
       "      <td>WP0CA2A13F</td>\n",
       "      <td>King</td>\n",
       "      <td>Hunts Point</td>\n",
       "      <td>WA</td>\n",
       "      <td>98004.0</td>\n",
       "      <td>2015</td>\n",
       "      <td>PORSCHE</td>\n",
       "      <td>918</td>\n",
       "      <td>Plug-in Hybrid Electric Vehicle (PHEV)</td>\n",
       "      <td>Not eligible due to low battery range</td>\n",
       "      <td>12</td>\n",
       "      <td>845000</td>\n",
       "      <td>48.0</td>\n",
       "      <td>100479039</td>\n",
       "      <td>POINT (-122.1872 47.61001)</td>\n",
       "      <td>PUGET SOUND ENERGY INC||CITY OF TACOMA - (WA)</td>\n",
       "      <td>5.303302e+10</td>\n",
       "    </tr>\n",
       "    <tr>\n",
       "      <th>43911</th>\n",
       "      <td>WP0CH2A76J</td>\n",
       "      <td>King</td>\n",
       "      <td>Mercer Island</td>\n",
       "      <td>WA</td>\n",
       "      <td>98040.0</td>\n",
       "      <td>2018</td>\n",
       "      <td>PORSCHE</td>\n",
       "      <td>PANAMERA</td>\n",
       "      <td>Plug-in Hybrid Electric Vehicle (PHEV)</td>\n",
       "      <td>Not eligible due to low battery range</td>\n",
       "      <td>14</td>\n",
       "      <td>184400</td>\n",
       "      <td>41.0</td>\n",
       "      <td>103328963</td>\n",
       "      <td>POINT (-122.21238 47.57816)</td>\n",
       "      <td>PUGET SOUND ENERGY INC||CITY OF TACOMA - (WA)</td>\n",
       "      <td>5.303302e+10</td>\n",
       "    </tr>\n",
       "    <tr>\n",
       "      <th>46737</th>\n",
       "      <td>WP0AH2A76J</td>\n",
       "      <td>King</td>\n",
       "      <td>Woodinville</td>\n",
       "      <td>WA</td>\n",
       "      <td>98072.0</td>\n",
       "      <td>2018</td>\n",
       "      <td>PORSCHE</td>\n",
       "      <td>PANAMERA</td>\n",
       "      <td>Plug-in Hybrid Electric Vehicle (PHEV)</td>\n",
       "      <td>Not eligible due to low battery range</td>\n",
       "      <td>14</td>\n",
       "      <td>184400</td>\n",
       "      <td>45.0</td>\n",
       "      <td>277238377</td>\n",
       "      <td>POINT (-122.15545 47.75448)</td>\n",
       "      <td>PUGET SOUND ENERGY INC||CITY OF TACOMA - (WA)</td>\n",
       "      <td>5.303303e+10</td>\n",
       "    </tr>\n",
       "    <tr>\n",
       "      <th>117415</th>\n",
       "      <td>5YJRE1A14A</td>\n",
       "      <td>King</td>\n",
       "      <td>Redmond</td>\n",
       "      <td>WA</td>\n",
       "      <td>98052.0</td>\n",
       "      <td>2010</td>\n",
       "      <td>TESLA</td>\n",
       "      <td>ROADSTER</td>\n",
       "      <td>Battery Electric Vehicle (BEV)</td>\n",
       "      <td>Clean Alternative Fuel Vehicle Eligible</td>\n",
       "      <td>245</td>\n",
       "      <td>110950</td>\n",
       "      <td>48.0</td>\n",
       "      <td>203082540</td>\n",
       "      <td>POINT (-122.13158 47.67858)</td>\n",
       "      <td>PUGET SOUND ENERGY INC||CITY OF TACOMA - (WA)</td>\n",
       "      <td>5.303303e+10</td>\n",
       "    </tr>\n",
       "    <tr>\n",
       "      <th>102508</th>\n",
       "      <td>5YJRE1A11A</td>\n",
       "      <td>King</td>\n",
       "      <td>Bellevue</td>\n",
       "      <td>WA</td>\n",
       "      <td>98004.0</td>\n",
       "      <td>2010</td>\n",
       "      <td>TESLA</td>\n",
       "      <td>ROADSTER</td>\n",
       "      <td>Battery Electric Vehicle (BEV)</td>\n",
       "      <td>Clean Alternative Fuel Vehicle Eligible</td>\n",
       "      <td>245</td>\n",
       "      <td>110950</td>\n",
       "      <td>48.0</td>\n",
       "      <td>137365245</td>\n",
       "      <td>POINT (-122.1872 47.61001)</td>\n",
       "      <td>PUGET SOUND ENERGY INC||CITY OF TACOMA - (WA)</td>\n",
       "      <td>5.303302e+10</td>\n",
       "    </tr>\n",
       "  </tbody>\n",
       "</table>\n",
       "</div>"
      ],
      "text/plain": [
       "        VIN (1-10) County           City State  Postal Code  Model Year  \\\n",
       "121122  WP0CA2A13F   King    Hunts Point    WA      98004.0        2015   \n",
       "43911   WP0CH2A76J   King  Mercer Island    WA      98040.0        2018   \n",
       "46737   WP0AH2A76J   King    Woodinville    WA      98072.0        2018   \n",
       "117415  5YJRE1A14A   King        Redmond    WA      98052.0        2010   \n",
       "102508  5YJRE1A11A   King       Bellevue    WA      98004.0        2010   \n",
       "\n",
       "           Make     Model                   Electric Vehicle Type  \\\n",
       "121122  PORSCHE       918  Plug-in Hybrid Electric Vehicle (PHEV)   \n",
       "43911   PORSCHE  PANAMERA  Plug-in Hybrid Electric Vehicle (PHEV)   \n",
       "46737   PORSCHE  PANAMERA  Plug-in Hybrid Electric Vehicle (PHEV)   \n",
       "117415    TESLA  ROADSTER          Battery Electric Vehicle (BEV)   \n",
       "102508    TESLA  ROADSTER          Battery Electric Vehicle (BEV)   \n",
       "\n",
       "       Clean Alternative Fuel Vehicle (CAFV) Eligibility  Electric Range  \\\n",
       "121122             Not eligible due to low battery range              12   \n",
       "43911              Not eligible due to low battery range              14   \n",
       "46737              Not eligible due to low battery range              14   \n",
       "117415           Clean Alternative Fuel Vehicle Eligible             245   \n",
       "102508           Clean Alternative Fuel Vehicle Eligible             245   \n",
       "\n",
       "        Base MSRP  Legislative District  DOL Vehicle ID  \\\n",
       "121122     845000                  48.0       100479039   \n",
       "43911      184400                  41.0       103328963   \n",
       "46737      184400                  45.0       277238377   \n",
       "117415     110950                  48.0       203082540   \n",
       "102508     110950                  48.0       137365245   \n",
       "\n",
       "                   Vehicle Location  \\\n",
       "121122   POINT (-122.1872 47.61001)   \n",
       "43911   POINT (-122.21238 47.57816)   \n",
       "46737   POINT (-122.15545 47.75448)   \n",
       "117415  POINT (-122.13158 47.67858)   \n",
       "102508   POINT (-122.1872 47.61001)   \n",
       "\n",
       "                                     Electric Utility  2020 Census Tract  \n",
       "121122  PUGET SOUND ENERGY INC||CITY OF TACOMA - (WA)       5.303302e+10  \n",
       "43911   PUGET SOUND ENERGY INC||CITY OF TACOMA - (WA)       5.303302e+10  \n",
       "46737   PUGET SOUND ENERGY INC||CITY OF TACOMA - (WA)       5.303303e+10  \n",
       "117415  PUGET SOUND ENERGY INC||CITY OF TACOMA - (WA)       5.303303e+10  \n",
       "102508  PUGET SOUND ENERGY INC||CITY OF TACOMA - (WA)       5.303302e+10  "
      ]
     },
     "execution_count": 181,
     "metadata": {},
     "output_type": "execute_result"
    }
   ],
   "source": [
    "# Don't want any vehicles with 0 MSRP.\n",
    "filtered_df = filtered_df[filtered_df['Base MSRP'] > 0].sort_values(by='Base MSRP', ascending=False)\n",
    "\n",
    "filtered_df.groupby('Postal Code')['Postal Code'].count().sort_values(ascending=False)\n",
    "\n",
    "# Identified these are the five postal codes I want to look at to make the scatter plot readable.\n",
    "wanted_postal_codes = [98033.0, 98072.0, 98004.0, 98052.0, 98040.0]\n",
    "\n",
    "filtered_df = filtered_df[filtered_df['Postal Code'].isin(wanted_postal_codes)]\n",
    "\n",
    "filtered_df.head()"
   ]
  },
  {
   "cell_type": "markdown",
   "metadata": {},
   "source": [
    "I was trying to fix the spacing between the x labels but couldn't figure it out. See below."
   ]
  },
  {
   "cell_type": "code",
   "execution_count": 182,
   "metadata": {},
   "outputs": [
    {
     "data": {
      "image/png": "[encoded data removed]",
      "text/plain": [
       "<Figure size 432x288 with 1 Axes>"
      ]
     },
     "metadata": {
      "needs_background": "light"
     },
     "output_type": "display_data"
    }
   ],
   "source": [
    "fig, ax = plt.subplots()\n",
    "ax.scatter(filtered_df['Postal Code'], filtered_df['Base MSRP'])\n",
    "ax.set_xticks(filtered_df['Postal Code'])\n",
    "ax.set_xticklabels(filtered_df['Postal Code'])\n",
    "plt.show()"
   ]
  },
  {
   "cell_type": "markdown",
   "metadata": {
    "id": "4VWWvvynEiQT"
   },
   "source": [
    "### **Part 2:**\n",
    "\n",
    "Recreate the visualizations above using the Seaborn library as best as possible.  \n",
    "\n",
    "\n",
    "**You are required to explain what each of your plots is representing. Plots without comments will not be accepted.**  In addition, please explain the properties you are showcasing."
   ]
  },
  {
   "cell_type": "code",
   "execution_count": 97,
   "metadata": {},
   "outputs": [
    {
     "data": {
      "image/png": "[encoded data removed]",
      "text/plain": [
       "<Figure size 432x288 with 1 Axes>"
      ]
     },
     "metadata": {
      "needs_background": "light"
     },
     "output_type": "display_data"
    }
   ],
   "source": [
    "sns.barplot(x='EV_Type', y='EV_Ratio', data=ev_ratio_df)\n",
    "\n",
    "# add text labels to each bar\n",
    "for index, row in ev_ratio_df.iterrows():\n",
    "    plt.text(index, row['EV_Ratio']+0.01, str(row['EV_Ratio']), ha='center')\n",
    "\n",
    "plt.legend(['EV Ratio'])\n",
    "plt.xlabel('EV Type')\n",
    "plt.ylabel('EV Ratio')\n",
    "plt.title('EV Ratio by Type')\n",
    "\n",
    "# display the chart\n",
    "plt.show()"
   ]
  },
  {
   "cell_type": "markdown",
   "metadata": {},
   "source": [
    "Recreated the scatterplot but a bit more colorful. It appears that scatterplots will determine the inbetween x labels even if the values in the Postal Code column does not have those values."
   ]
  },
  {
   "cell_type": "code",
   "execution_count": 185,
   "metadata": {},
   "outputs": [
    {
     "data": {
      "image/png": "[encoded data removed]",
      "text/plain": [
       "<Figure size 432x288 with 1 Axes>"
      ]
     },
     "metadata": {
      "needs_background": "light"
     },
     "output_type": "display_data"
    }
   ],
   "source": [
    "sns.scatterplot(x='Postal Code', y='Base MSRP', hue='Make', data=filtered_df)\n",
    "plt.show()"
   ]
  },
  {
   "cell_type": "markdown",
   "metadata": {
    "id": "N9sKmrIrDbhd"
   },
   "source": [
    "### **Part 3:**\n",
    "In a comment or text box, explain the differences between creating a plot in matplotlib and seaborn, based on your above plots.\n"
   ]
  },
  {
   "cell_type": "markdown",
   "metadata": {},
   "source": [
    "They are both data visualization libraries. Out of the box - matplotlib seems more basic with the style and theme compared to seaborn. Seaborn comes with style themes even without being explicit about specifying different colors for different variables. I enjoy Seaborn more since I am able to accomplish more in a concise manner as evident from the scatterplot."
   ]
  },
  {
   "cell_type": "markdown",
   "metadata": {
    "id": "vFa4bNTyDbzb"
   },
   "source": []
  },
  {
   "cell_type": "markdown",
   "metadata": {
    "id": "tujjevRpXEen"
   },
   "source": [
    "# Conclusions  \n",
    "\n",
    "After exploring your dataset, provide a short summary of what you noticed from this dataset.  "
   ]
  },
  {
   "cell_type": "markdown",
   "metadata": {},
   "source": [
    "Given the visualizations and data analysis - Porsche and Tesla produces the most expensive electric vehicles on the market. The dataset provides the range solely based on the electrical charge. So it was difficult to answer the question of \"Which type of electrical vehicle has a longer range given full tank and full charge?\" We can also see that Battery Electric Vehicles dominate the market in Washington as opposed to the Plug-in Hybrid variety."
   ]
  }
 ],
 "metadata": {
  "colab": {
   "name": "08_assignment.ipynb",
   "provenance": []
  },
  "kernelspec": {
   "display_name": "Python 3",
   "language": "python",
   "name": "python3"
  },
  "language_info": {
   "codemirror_mode": {
    "name": "ipython",
    "version": 3
   },
   "file_extension": ".py",
   "mimetype": "text/x-python",
   "name": "python",
   "nbconvert_exporter": "python",
   "pygments_lexer": "ipython3",
   "version": "3.7.7"
  }
 },
 "nbformat": 4,
 "nbformat_minor": 1
}
