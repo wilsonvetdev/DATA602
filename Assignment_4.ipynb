{
 "cells": [
  {
   "cell_type": "markdown",
   "id": "connected-therapist",
   "metadata": {},
   "source": [
    "Q1: Create a class called BankAccount that has four attributes: bankname, firstname,\n",
    "lastname, and balance.\n",
    "\n",
    "The default balance should be set to 0.\n",
    "In addition, create ...\n",
    " - A method called deposit() that allows the user to make deposits into their balance.\n",
    " - A method called withdrawal() that allows the user to withdraw from their balance.\n",
    " - Withdrawal may not exceed the available balance. Hint: consider a conditional argument\n",
    "in your withdrawal() method.\n",
    " - Use the __str__() method in order to display the bank name, owner name, and current\n",
    "balance.\n",
    " - Make a series of deposits and withdrawals to test your class."
   ]
  },
  {
   "cell_type": "code",
   "execution_count": 15,
   "id": "veterinary-marking",
   "metadata": {},
   "outputs": [],
   "source": [
    "class BankAccount:\n",
    "    \n",
    "    def __init__(self, bankname, firstname, lastname, balance = 0):\n",
    "        self.bankname = bankname\n",
    "        self.firstname = firstname\n",
    "        self.lastname = lastname\n",
    "        self.balance = balance\n",
    "    \n",
    "    def deposit(self, amount):\n",
    "        self.balance = self.balance + amount\n",
    "    \n",
    "    def withdrawal(self, amount):\n",
    "        if amount > self.balance:\n",
    "            return f'Not enough funds for withdrawal. Your current balance is ${self.balance}.'\n",
    "        else:\n",
    "            self.balance = self.balance - amount\n",
    "            return f'Your updated balance is ${self.balance}.'\n",
    "        \n",
    "    \n",
    "    "
   ]
  },
  {
   "cell_type": "code",
   "execution_count": 19,
   "id": "careful-cheese",
   "metadata": {},
   "outputs": [
    {
     "data": {
      "text/plain": [
       "'Not enough funds for withdrawal. Your current balance is $0.'"
      ]
     },
     "execution_count": 19,
     "metadata": {},
     "output_type": "execute_result"
    }
   ],
   "source": [
    "my_acct = BankAccount('chase', 'wilson', 'lastname')\n",
    "\n",
    "my_acct.bankname\n",
    "\n",
    "my_acct.deposit(10)\n",
    "\n",
    "my_acct.balance\n",
    "\n",
    "my_acct.withdrawal(5)\n",
    "\n",
    "my_acct.withdrawal(5)\n",
    "\n",
    "my_acct.withdrawal(1)"
   ]
  },
  {
   "cell_type": "markdown",
   "id": "going-outside",
   "metadata": {},
   "source": [
    "Q2: Create a class Box that has attributes length and width that takes values for length\n",
    "and width upon construction (instantiation via the constructor).\n",
    "In addition, create…\n",
    " - A method called render() that prints out to the screen a box made with asterisks of\n",
    "length and width dimensions\n",
    " - A method called invert() that switches length and width with each other\n",
    " - Methods get_area() and get_perimeter() that return appropriate geometric calculations\n",
    " - A method called double() that doubles the size of the box. Hint: Pay attention to return\n",
    "value here.\n",
    " - Implement __eq__ so that two boxes can be compared using ==. Two boxes are equal if\n",
    "their respective lengths and widths are identical.\n",
    " - A method print_dim() that prints to screen the length and width details of the box\n",
    " - A method get_dim() that returns a tuple containing the length and width of the box\n",
    " - A method combine() that takes another box as an argument and increases the length\n",
    "and width by the dimensions of the box passed in\n",
    " - A method get_hypot() that finds the length of the diagonal that cuts through the middle\n",
    " - Instantiate 3 boxes of dimensions 5,10 , 3,4 and 5,10 and assign to variables box1,\n",
    "box2 and box3 respectively\n",
    " - Print dimension info for each using print_dim()\n",
    " - Evaluate if box1 == box2, and also evaluate if box1 == box3, print True or False to the\n",
    "screen accordingly\n",
    " - Combine box3 into box1 (i.e. box1.combine())\n",
    " - Double the size of box2\n",
    " - Combine box2 into box1"
   ]
  },
  {
   "cell_type": "code",
   "execution_count": 91,
   "id": "backed-calculation",
   "metadata": {},
   "outputs": [],
   "source": [
    "class Box:\n",
    "    \n",
    "    def __init__(self, length, width):\n",
    "        self.length = length\n",
    "        self.width = width\n",
    "    \n",
    "    def __eq__(self, other):\n",
    "        if isinstance(other, Box):\n",
    "            return (self.length == other.length) and (self.width == other.width)\n",
    "        return False\n",
    "    \n",
    "    def render(self):\n",
    "        # Draw the top of the box\n",
    "        print('*' * self.width)\n",
    "\n",
    "        # Draw the sides of the box\n",
    "        for i in range(self.length - 2):\n",
    "            print('*' + ' '*(self.width - 2) + '*')\n",
    "\n",
    "        # Draw the bottom of the box\n",
    "        print('*' * self.width)\n",
    "    \n",
    "    def invert(self):\n",
    "        length = self.length\n",
    "        width = self.width\n",
    "        \n",
    "        self.length = width\n",
    "        self.width = length\n",
    "    \n",
    "    def get_area(self):\n",
    "        return self.length * self.width\n",
    "    \n",
    "    def get_perimeter(self):\n",
    "        return self.length + self.length + self.width + self.width\n",
    "    \n",
    "    def double(self):\n",
    "        self.length = self.length * 2\n",
    "        self.width = self.width * 2\n",
    "    \n",
    "    def combine(self, other):\n",
    "        if isinstance(other, Box):\n",
    "            self.length = self.length + other.length\n",
    "            self.width = self.width + other.width\n",
    "        return self.get_dim()\n",
    "    \n",
    "    def get_dim(self):\n",
    "        return (self.length, self.width)\n",
    "    \n",
    "    def print_dim(self):\n",
    "        print(f'length: {self.length}, width: {self.width}')\n",
    "        \n",
    "    def get_hypot(self):\n",
    "        return (self.length ** 2 + self.width ** 2) ** 0.5\n"
   ]
  },
  {
   "cell_type": "code",
   "execution_count": 92,
   "id": "entertaining-imagination",
   "metadata": {},
   "outputs": [],
   "source": [
    "new_box = Box(5, 10)"
   ]
  },
  {
   "cell_type": "code",
   "execution_count": 93,
   "id": "guided-hello",
   "metadata": {},
   "outputs": [
    {
     "name": "stdout",
     "output_type": "stream",
     "text": [
      "**********\n",
      "*        *\n",
      "*        *\n",
      "*        *\n",
      "**********\n"
     ]
    }
   ],
   "source": [
    "new_box.render()"
   ]
  },
  {
   "cell_type": "code",
   "execution_count": 94,
   "id": "otherwise-google",
   "metadata": {},
   "outputs": [],
   "source": [
    "new_box.invert()"
   ]
  },
  {
   "cell_type": "code",
   "execution_count": 95,
   "id": "swedish-germany",
   "metadata": {},
   "outputs": [
    {
     "name": "stdout",
     "output_type": "stream",
     "text": [
      "*****\n",
      "*   *\n",
      "*   *\n",
      "*   *\n",
      "*   *\n",
      "*   *\n",
      "*   *\n",
      "*   *\n",
      "*   *\n",
      "*****\n"
     ]
    }
   ],
   "source": [
    "new_box.render()"
   ]
  },
  {
   "cell_type": "code",
   "execution_count": 96,
   "id": "varied-toner",
   "metadata": {},
   "outputs": [
    {
     "name": "stdout",
     "output_type": "stream",
     "text": [
      "**********\n",
      "*        *\n",
      "*        *\n",
      "*        *\n",
      "*        *\n",
      "*        *\n",
      "*        *\n",
      "*        *\n",
      "*        *\n",
      "*        *\n",
      "*        *\n",
      "*        *\n",
      "*        *\n",
      "*        *\n",
      "*        *\n",
      "*        *\n",
      "*        *\n",
      "*        *\n",
      "*        *\n",
      "**********\n"
     ]
    }
   ],
   "source": [
    "new_box.double()\n",
    "\n",
    "new_box.render()"
   ]
  },
  {
   "cell_type": "code",
   "execution_count": 97,
   "id": "affecting-going",
   "metadata": {},
   "outputs": [
    {
     "data": {
      "text/plain": [
       "False"
      ]
     },
     "execution_count": 97,
     "metadata": {},
     "output_type": "execute_result"
    }
   ],
   "source": [
    ">>> box1 = Box(5, 10)\n",
    ">>> box2 = Box(3, 4)\n",
    ">>> box3 = Box(5, 10)\n",
    ">>> box1 == box2\n",
    "True\n",
    ">>> box1 == box3\n",
    "False"
   ]
  },
  {
   "cell_type": "code",
   "execution_count": 98,
   "id": "liked-ethnic",
   "metadata": {},
   "outputs": [
    {
     "data": {
      "text/plain": [
       "(5, 10)"
      ]
     },
     "execution_count": 98,
     "metadata": {},
     "output_type": "execute_result"
    }
   ],
   "source": [
    "box1.get_dim()"
   ]
  },
  {
   "cell_type": "code",
   "execution_count": 99,
   "id": "simple-queue",
   "metadata": {},
   "outputs": [
    {
     "data": {
      "text/plain": [
       "(8, 14)"
      ]
     },
     "execution_count": 99,
     "metadata": {},
     "output_type": "execute_result"
    }
   ],
   "source": [
    "box1.combine(box2)"
   ]
  },
  {
   "cell_type": "code",
   "execution_count": 100,
   "id": "suffering-crowd",
   "metadata": {},
   "outputs": [
    {
     "name": "stdout",
     "output_type": "stream",
     "text": [
      "length: 8, width: 14\n",
      "length: 3, width: 4\n",
      "length: 5, width: 10\n"
     ]
    }
   ],
   "source": [
    "box1.print_dim()\n",
    "box2.print_dim()\n",
    "box3.print_dim()"
   ]
  },
  {
   "cell_type": "code",
   "execution_count": 101,
   "id": "double-syria",
   "metadata": {},
   "outputs": [],
   "source": [
    "box2.double()"
   ]
  },
  {
   "cell_type": "code",
   "execution_count": 102,
   "id": "plain-master",
   "metadata": {},
   "outputs": [
    {
     "name": "stdout",
     "output_type": "stream",
     "text": [
      "********\n",
      "*      *\n",
      "*      *\n",
      "*      *\n",
      "*      *\n",
      "********\n"
     ]
    }
   ],
   "source": [
    "box2.render()"
   ]
  },
  {
   "cell_type": "code",
   "execution_count": 103,
   "id": "fitting-truck",
   "metadata": {},
   "outputs": [
    {
     "data": {
      "text/plain": [
       "10.0"
      ]
     },
     "execution_count": 103,
     "metadata": {},
     "output_type": "execute_result"
    }
   ],
   "source": [
    "box2.get_hypot()"
   ]
  },
  {
   "cell_type": "code",
   "execution_count": null,
   "id": "worldwide-facility",
   "metadata": {},
   "outputs": [],
   "source": []
  }
 ],
 "metadata": {
  "kernelspec": {
   "display_name": "Python 3",
   "language": "python",
   "name": "python3"
  },
  "language_info": {
   "codemirror_mode": {
    "name": "ipython",
    "version": 3
   },
   "file_extension": ".py",
   "mimetype": "text/x-python",
   "name": "python",
   "nbconvert_exporter": "python",
   "pygments_lexer": "ipython3",
   "version": "3.7.7"
  }
 },
 "nbformat": 4,
 "nbformat_minor": 5
}
