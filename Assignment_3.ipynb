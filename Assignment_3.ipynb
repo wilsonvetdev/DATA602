{
 "cells": [
  {
   "cell_type": "markdown",
   "id": "written-principle",
   "metadata": {},
   "source": [
    "# Assignment#3\n",
    "**DATA602-Wilson Ng**"
   ]
  },
  {
   "cell_type": "markdown",
   "id": "under-version",
   "metadata": {},
   "source": [
    "Q1: Write a program that prompts the user for a meal: breakfast, lunch, or dinner. Then using if statements and else statements print the user a message recommending a meal. For example, if the meal was breakfast, you could say something like, “How about some bacon and eggs?”\n",
    "The user may enter something else in, but you only have to respond to breakfast, lunch, or dinner."
   ]
  },
  {
   "cell_type": "code",
   "execution_count": 5,
   "id": "frank-brighton",
   "metadata": {},
   "outputs": [
    {
     "name": "stdout",
     "output_type": "stream",
     "text": [
      "Would you like breakfast, lunch, or dinner?dinner\n"
     ]
    },
    {
     "data": {
      "text/plain": [
       "'How about szechuan food?'"
      ]
     },
     "execution_count": 5,
     "metadata": {},
     "output_type": "execute_result"
    }
   ],
   "source": [
    "def if_breakfast():\n",
    "    return 'How about an iced coffee and a croissant?'\n",
    "\n",
    "def if_lunch():\n",
    "    return 'How does a turkey sandwhich sound?'\n",
    "\n",
    "def if_dinner():\n",
    "    return 'How about szechuan food?'\n",
    "\n",
    "def choose_meal(user_choice):\n",
    "    \n",
    "    if user_choice == 'breakfast':\n",
    "        return if_breakfast()\n",
    "    elif user_choice == 'lunch':\n",
    "        return if_lunch()\n",
    "    elif user_choice == 'dinner':\n",
    "        return if_dinner()\n",
    "    \n",
    "def prompt_user():\n",
    "    user_choice = input('Would you like breakfast, lunch, or dinner?')\n",
    "    \n",
    "    return choose_meal(user_choice)\n",
    "\n",
    "prompt_user()"
   ]
  },
  {
   "cell_type": "markdown",
   "id": "civic-roommate",
   "metadata": {},
   "source": [
    "Q2: The mailroom has asked you to design a simple payroll program that calculates a student employee’s gross pay, including any overtime wages. If any employee works over 20 hours in a week, the mailroom pays them 1.5 times their regular hourly pay rate for all hours over 20. \n",
    "You should take in the user’s input for the number of hours worked, and their rate of pay.\n"
   ]
  },
  {
   "cell_type": "code",
   "execution_count": 12,
   "id": "finite-dietary",
   "metadata": {},
   "outputs": [
    {
     "data": {
      "text/plain": [
       "350.0"
      ]
     },
     "execution_count": 12,
     "metadata": {},
     "output_type": "execute_result"
    }
   ],
   "source": [
    "def calculate_pay(hours_worked, rate):\n",
    "    \n",
    "    overtime_rate = rate * 1.5\n",
    "    \n",
    "    if hours_worked > 20:\n",
    "        overtime_pay = (hours_worked - 20) * overtime_rate\n",
    "        regular_pay = 20 * rate\n",
    "        return overtime_pay + regular_pay\n",
    "    else:\n",
    "        regular_pay = hours_worked * rate\n",
    "        return regular_pay\n",
    "\n",
    "calculate_pay(30, 10)"
   ]
  },
  {
   "cell_type": "markdown",
   "id": "bizarre-request",
   "metadata": {},
   "source": [
    "Q3: Write a function named times_ten. The function should accept an argument and display the product of its argument multiplied times 10."
   ]
  },
  {
   "cell_type": "code",
   "execution_count": 14,
   "id": "monthly-mobile",
   "metadata": {},
   "outputs": [
    {
     "data": {
      "text/plain": [
       "100"
      ]
     },
     "execution_count": 14,
     "metadata": {},
     "output_type": "execute_result"
    }
   ],
   "source": [
    "def times_ten(num):\n",
    "    return num * 10\n",
    "\n",
    "times_ten(10)"
   ]
  },
  {
   "cell_type": "markdown",
   "id": "bacterial-obligation",
   "metadata": {},
   "source": [
    "Q4: Find the errors, debug the program, and then execute to show the output.\n",
    "\n",
    "def main()\n",
    "      Calories1 = input( \"How many calories are in the first food?\")\n",
    "      Calories2 = input( \"How many calories are in the first food?\")\n",
    "      showCalories(calories1, calories2)\n",
    "\n",
    "def showCalories()   \n",
    "   print(“The total calories you ate today”, format(calories1 + calories2,.2f))\n"
   ]
  },
  {
   "cell_type": "code",
   "execution_count": 26,
   "id": "educated-gentleman",
   "metadata": {},
   "outputs": [
    {
     "name": "stdout",
     "output_type": "stream",
     "text": [
      "How many calories are in the first food?50\n",
      "How many calories are in the first food?50\n",
      "The total calories you ate today: 100\n"
     ]
    }
   ],
   "source": [
    "def main(): \n",
    "    calories1 = int(input(\"How many calories are in the first food?\"))\n",
    "    calories2 = int(input(\"How many calories are in the first food?\"))\n",
    "    showCalories(calories1, calories2)\n",
    "\n",
    "def showCalories(cal1, cal2):\n",
    "    print(f\"The total calories you ate today: {cal1 + cal2}\")\n",
    "\n",
    "main()"
   ]
  },
  {
   "cell_type": "markdown",
   "id": "appointed-measure",
   "metadata": {},
   "source": [
    "Q5: Write a program that uses any loop (while or for) that calculates the total of the following series of numbers:\n",
    "         1/30 + 2/29 + 3/28 ............. + 30/1\n"
   ]
  },
  {
   "cell_type": "code",
   "execution_count": 38,
   "id": "alternative-specific",
   "metadata": {},
   "outputs": [
    {
     "name": "stdout",
     "output_type": "stream",
     "text": [
      "93.84460105853213\n"
     ]
    }
   ],
   "source": [
    "a = 1\n",
    "b = 30\n",
    "\n",
    "num_list = [1/30]\n",
    "\n",
    "while a < 30:\n",
    "    a = a + 1\n",
    "    b = b - 1\n",
    "    num_list.append(a/b)\n",
    "\n",
    "print(sum(num_list))"
   ]
  },
  {
   "cell_type": "markdown",
   "id": "improving-confirmation",
   "metadata": {},
   "source": [
    "Q6: Write a function that computes the area of a triangle given its base and height.\n",
    "The formula for an area of a triangle is:\n",
    "AREA = 1/2 * BASE * HEIGHT\n",
    "\n",
    "For example, if the base was 5 and the height was 4, the area would be 10.\n",
    "triangle_area(5, 4)   # should print 10\n"
   ]
  },
  {
   "cell_type": "code",
   "execution_count": 39,
   "id": "documented-google",
   "metadata": {},
   "outputs": [
    {
     "data": {
      "text/plain": [
       "10.0"
      ]
     },
     "execution_count": 39,
     "metadata": {},
     "output_type": "execute_result"
    }
   ],
   "source": [
    "def triangle_area(base, height):\n",
    "    return 1/2 * base * height \n",
    "\n",
    "triangle_area(5, 4)"
   ]
  },
  {
   "cell_type": "code",
   "execution_count": null,
   "id": "interpreted-stable",
   "metadata": {},
   "outputs": [],
   "source": []
  }
 ],
 "metadata": {
  "kernelspec": {
   "display_name": "Python 3",
   "language": "python",
   "name": "python3"
  },
  "language_info": {
   "codemirror_mode": {
    "name": "ipython",
    "version": 3
   },
   "file_extension": ".py",
   "mimetype": "text/x-python",
   "name": "python",
   "nbconvert_exporter": "python",
   "pygments_lexer": "ipython3",
   "version": "3.7.7"
  }
 },
 "nbformat": 4,
 "nbformat_minor": 5
}
