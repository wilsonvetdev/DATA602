{
 "cells": [
  {
   "cell_type": "code",
   "execution_count": 1,
   "id": "molecular-veteran",
   "metadata": {},
   "outputs": [
    {
     "name": "stdout",
     "output_type": "stream",
     "text": [
      "Enter the score for test 1: 94\n",
      "Enter the score for test 2: 94\n",
      "Enter the score for test 3: 94\n",
      "The average score is 94.0\n",
      "That is a great average!\n"
     ]
    }
   ],
   "source": [
    "#Q1 Fix all the syntax and logical errors in the given source code \n",
    "#add comments to explain your reasoning\n",
    "\n",
    "# This program gets three test scores and displays their average.  It congratulates the user if the \n",
    "# average is a high score. The high score variable holds the value that is considered a high score.\n",
    "\n",
    "high_score = 95\n",
    " \n",
    "# Get the test scores.\n",
    "test1 = input('Enter the score for test 1: ')\n",
    "test2 = input('Enter the score for test 2: ')\n",
    "test3 = input('Enter the score for test 3: ')\n",
    "# Calculate the average test score.\n",
    "average = (int(test1) + int(test2) + int(test3)) / 3\n",
    "# Print the average.\n",
    "print('The average score is', average)\n",
    "# If the average is a high score,\n",
    "# congratulate the user.\n",
    "if average >= high_score:\n",
    "    print('Congratulations!')\n",
    "print('That is a great average!')\n"
   ]
  },
  {
   "cell_type": "code",
   "execution_count": 2,
   "id": "governmental-nelson",
   "metadata": {},
   "outputs": [
    {
     "name": "stdout",
     "output_type": "stream",
     "text": [
      "Enter the length of rectangle 1: 5\n",
      "Enter the width of rectangle 1: 5\n",
      "Enter the width of rectangle 2: 5\n",
      "Enter the width of rectangle 2: 5\n",
      "The area of rectangle one is 25\n",
      "The area of rectangle two is 25\n"
     ]
    }
   ],
   "source": [
    "#Q2\n",
    "#The area of a rectangle is the rectangle’s length times its width. Write a program that asks for the length and width of two rectangles and prints to the user the area of both rectangles.\n",
    "rectangle_1_length = input('Enter the length of rectangle 1: ')\n",
    "rectangle_1_width = input('Enter the width of rectangle 1: ')\n",
    "rectangle_2_length = input('Enter the width of rectangle 2: ')\n",
    "rectangle_2_width = input('Enter the width of rectangle 2: ')\n",
    "\n",
    "# Calculate the areas of both rectangles\n",
    "area_1 = int(rectangle_1_length) *  int(rectangle_1_width)\n",
    "area_2 = int(rectangle_2_length) *  int(rectangle_2_width)\n",
    "\n",
    "# Print the area of both rectangles.\n",
    "print('The area of rectangle one is', area_1)\n",
    "print('The area of rectangle two is', area_2)\n"
   ]
  },
  {
   "cell_type": "code",
   "execution_count": 3,
   "id": "through-trustee",
   "metadata": {},
   "outputs": [
    {
     "name": "stdout",
     "output_type": "stream",
     "text": [
      "Enter your first name: wilson\n",
      "Enter your age: 30\n",
      "data type for age is <class 'int'>\n",
      "Happy birthday, wilson!, You are 30 years old today!\n"
     ]
    }
   ],
   "source": [
    "#Q3 \n",
    "#Ask a user to enter their first name and their age and assign it to the variables name and age. \n",
    "#The variable name should be a string and the variable age should be an int.  \n",
    "\n",
    "first_name = input('Enter your first name: ')\n",
    "age = int(input('Enter your age: '))\n",
    "print('data type for age is', type(age))\n",
    "\n",
    "#Using the variables name and age, print a message to the user stating something along the lines of:\n",
    "# \"Happy birthday, name!  You are age years old today!\"\n",
    "\n",
    "print(f'Happy birthday, {first_name}!, You are {age} years old today!')"
   ]
  },
  {
   "cell_type": "code",
   "execution_count": null,
   "id": "altered-warrant",
   "metadata": {},
   "outputs": [],
   "source": []
  }
 ],
 "metadata": {
  "kernelspec": {
   "display_name": "Python 3",
   "language": "python",
   "name": "python3"
  },
  "language_info": {
   "codemirror_mode": {
    "name": "ipython",
    "version": 3
   },
   "file_extension": ".py",
   "mimetype": "text/x-python",
   "name": "python",
   "nbconvert_exporter": "python",
   "pygments_lexer": "ipython3",
   "version": "3.7.7"
  }
 },
 "nbformat": 4,
 "nbformat_minor": 5
}
