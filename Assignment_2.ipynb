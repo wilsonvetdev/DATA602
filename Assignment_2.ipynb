{
 "cells": [
  {
   "cell_type": "markdown",
   "id": "tight-hazard",
   "metadata": {},
   "source": [
    "# Assignment 2\n",
    "**DATA 602 - Wilson Ng**"
   ]
  },
  {
   "cell_type": "markdown",
   "id": "increasing-beginning",
   "metadata": {},
   "source": [
    "1. What will the following code display? \\\n",
    "numbers = [1, 2, 3, 4, 5] \\\n",
    "print(numbers[1:-5]) \\\n",
    "Can you debug and fix the output? The code should return the entire list"
   ]
  },
  {
   "cell_type": "code",
   "execution_count": 7,
   "id": "still-kazakhstan",
   "metadata": {},
   "outputs": [
    {
     "name": "stdout",
     "output_type": "stream",
     "text": [
      "[1, 2, 3, 4, 5]\n",
      "[1, 2, 3, 4, 5]\n",
      "[1, 2, 3, 4, 5]\n"
     ]
    }
   ],
   "source": [
    "numbers = [1, 2, 3, 4, 5]\n",
    "\n",
    "# Below options will work to return the entire list\n",
    "print(numbers)\n",
    "\n",
    "print(numbers[:])\n",
    "\n",
    "print(numbers[0:])"
   ]
  },
  {
   "cell_type": "markdown",
   "id": "comfortable-treasurer",
   "metadata": {},
   "source": [
    "2.  Design a program that asks the user to enter a store’s sales for each day of the\n",
    "week. The amounts should be stored in a list. Use a loop to calculate the total sales for\n",
    "the week and display the result."
   ]
  },
  {
   "cell_type": "code",
   "execution_count": 14,
   "id": "trying-hayes",
   "metadata": {},
   "outputs": [
    {
     "name": "stdout",
     "output_type": "stream",
     "text": [
      "Please input sale for Monday: 5\n",
      "Please input sale for Tuesday: 5\n",
      "Please input sale for Wednesday: 5\n",
      "Please input sale for Thursday: 5\n",
      "Please input sale for Friday: 5\n",
      "Please input sale for Saturday: 5\n",
      "Please input sale for Sunday: 5\n",
      "Total sales for the week was: 35 dollars.\n"
     ]
    }
   ],
   "source": [
    "days_of_the_week = ['Monday', 'Tuesday', 'Wednesday', \"Thursday\", 'Friday', 'Saturday', 'Sunday']\n",
    "\n",
    "total_sales = []\n",
    "\n",
    "for day in days_of_the_week:\n",
    "    sales = int(input(f'Please input sale for {day}: '))\n",
    "    total_sales.append(sales)\n",
    "\n",
    "print(f'Total sales for the week was: {sum(total_sales)} dollars.')"
   ]
  },
  {
   "cell_type": "markdown",
   "id": "narrow-attraction",
   "metadata": {},
   "source": [
    "3. Create a list with at least 5 places you’d like to travel to. Make sure the list isn’t in alphabetical order\n",
    "    - Print your list in its original order.\n",
    "    - Use the sort() function to arrange your list in order and reprint your list.\n",
    "    - Use the sort(reverse=True) and reprint your list."
   ]
  },
  {
   "cell_type": "code",
   "execution_count": 3,
   "id": "critical-insurance",
   "metadata": {},
   "outputs": [
    {
     "name": "stdout",
     "output_type": "stream",
     "text": [
      "['Malaysia', 'Australia', 'Indonesia', 'Korea', 'Italy']\n",
      "['Australia', 'Indonesia', 'Italy', 'Korea', 'Malaysia']\n",
      "['Malaysia', 'Korea', 'Italy', 'Indonesia', 'Australia']\n"
     ]
    }
   ],
   "source": [
    "travel_list = ['Malaysia', 'Australia', 'Indonesia', 'Korea', 'Italy']\n",
    "\n",
    "print(travel_list)\n",
    "\n",
    "travel_list.sort()\n",
    "\n",
    "print(travel_list)\n",
    "\n",
    "travel_list.sort(reverse=True)\n",
    "\n",
    "print(travel_list)"
   ]
  },
  {
   "cell_type": "markdown",
   "id": "limiting-canada",
   "metadata": {},
   "source": [
    "4. Write a program that creates a dictionary containing course numbers and the room numbers of the rooms where the courses meet. The program should also create a dictionary containing course numbers and the names of the instructors that teach each course. After that, the program should let the user enter a course number, then it should display the course’s room number, instructor, and meeting time."
   ]
  },
  {
   "cell_type": "code",
   "execution_count": null,
   "id": "altered-occasions",
   "metadata": {},
   "outputs": [],
   "source": [
    "room_dict = {\n",
    "    'DATA602': 'remote-online, Tuesdays 8pm est',\n",
    "    'DATA620': 'remote_online, Thursdays 8pm est',\n",
    "    'PSYCH100': 'campus-530, Monday 2pm est'\n",
    "}\n",
    "\n",
    "professor_dict = {\n",
    "    'DATA602': 'Prof Spongebob',\n",
    "    'DATA620': 'Prof Squidward',\n",
    "    'PSYCH100': 'Prof Patrick'\n",
    "}\n",
    "\n",
    "student_input = input('Provide course number to look up course info: ')\n",
    "\n",
    "if student_input in room_dict and student_input in professor_dict:\n",
    "    room_info = room_dict[student_input]\n",
    "    professor_info = professor_dict[student_input]\n",
    "    course_info = f'Meeting information for {student_input}: {room_info} with {professor_info}'\n",
    "    print(course_info)\n",
    "else:\n",
    "    print(f'You typed {student_input}, please try again!')\n"
   ]
  },
  {
   "cell_type": "markdown",
   "id": "severe-section",
   "metadata": {},
   "source": [
    "5. Write a program that keeps names and email addresses in a dictionary as key-value pairs. The program should then demonstrate the four options:\n",
    "    - look up a person’s email address,\n",
    "    - add a new name and email address,\n",
    "    - change an existing email address, and\n",
    "    - delete an existing name and email address."
   ]
  },
  {
   "cell_type": "code",
   "execution_count": 33,
   "id": "jewish-furniture",
   "metadata": {},
   "outputs": [],
   "source": [
    "email_dict = {\n",
    "    'wilson': 'wilson@email.com'\n",
    "}"
   ]
  },
  {
   "cell_type": "code",
   "execution_count": 45,
   "id": "parliamentary-certification",
   "metadata": {},
   "outputs": [
    {
     "name": "stdout",
     "output_type": "stream",
     "text": [
      "What woud you like to do? You can look up, add, update, or delete someone's email information\n",
      "Please enter read, add, update, or delete: delete\n",
      "Please enter the name of the person: kary\n",
      "Info deleted for kary. Here is your new lookup table {'wilson': 'wilson@email.com', 'john': 'john@email.com'}\n"
     ]
    }
   ],
   "source": [
    "print('What woud you like to do? You can look up, add, update, or delete someone\\'s email information')\n",
    "\n",
    "user_action = input('Please enter read, add, update, or delete: ')\n",
    "\n",
    "if user_action == 'read':\n",
    "    user_input = input('Please enter the name of the person: ')\n",
    "    print(email_dict[user_input])\n",
    "elif user_action == 'add':\n",
    "    user_input_name = input(\"Please enter the name of the person: \")\n",
    "    user_input_email = input(f\"Please enter the email of {user_input_name}: \")\n",
    "    email_dict[user_input_name] = user_input_email\n",
    "    print(email_dict[user_input_name], 'has been added')\n",
    "elif user_action == 'update':\n",
    "    user_input_name = input(\"Please enter the name of the person: \")\n",
    "    if user_input_name in email_dict:\n",
    "        user_input_email = input(f\"Please enter the new email of {user_input_name}: \")\n",
    "        email_dict[user_input_name] = user_input_email\n",
    "        print(f'Email updated for {user_input_name}: {email_dict[user_input_name]}')\n",
    "    else:\n",
    "        print('No user found!')\n",
    "elif user_action == 'delete':\n",
    "    user_input_name = input(\"Please enter the name of the person: \")\n",
    "    if user_input_name in email_dict:\n",
    "        del email_dict[user_input_name]\n",
    "        print(f'Info deleted for {user_input_name}. Here is your new lookup table', email_dict)\n",
    "    else:\n",
    "        print('No user found!')\n",
    "    "
   ]
  },
  {
   "cell_type": "code",
   "execution_count": null,
   "id": "fallen-punishment",
   "metadata": {},
   "outputs": [],
   "source": []
  },
  {
   "cell_type": "code",
   "execution_count": null,
   "id": "substantial-geneva",
   "metadata": {},
   "outputs": [],
   "source": []
  }
 ],
 "metadata": {
  "kernelspec": {
   "display_name": "Python 3",
   "language": "python",
   "name": "python3"
  }
 },
 "nbformat": 4,
 "nbformat_minor": 5
}
